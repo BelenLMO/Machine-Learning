{
 "cells": [
  {
   "cell_type": "code",
   "execution_count": 1,
   "metadata": {},
   "outputs": [],
   "source": [
    "import pandas as pd\n",
    "from sklearn.model_selection import train_test_split\n",
    "from sklearn.neighbors import KNeighborsClassifier\n",
    "from sklearn.preprocessing import StandardScaler"
   ]
  },
  {
   "cell_type": "code",
   "execution_count": 2,
   "metadata": {},
   "outputs": [],
   "source": [
    "# Función de clasificación KNN\n",
    "def knn_clasificacion(datos, k=3):\n",
    "    # Definir las variables X y y según los requisitos\n",
    "    X = datos[['sepal_length', 'sepal_width', 'petal_length', 'petal_width']]\n",
    "    y = datos['species']\n",
    "    \n",
    "    # Crear el modelo KNN con k=3\n",
    "    knn = KNeighborsClassifier(n_neighbors=k)\n",
    "    \n",
    "    # Entrenar el modelo\n",
    "    knn.fit(X, y)\n",
    "    \n",
    "    # Retornar el modelo entrenado\n",
    "    return knn\n"
   ]
  },
  {
   "cell_type": "code",
   "execution_count": 3,
   "metadata": {},
   "outputs": [],
   "source": [
    "# Cargar el conjunto de datos Iris desde la URL de GitHub\n",
    "url = 'https://raw.githubusercontent.com/BelenLMO/Machine-Learning/K-vecinos/Iris.csv'\n",
    "data = pd.read_csv(url)"
   ]
  },
  {
   "cell_type": "code",
   "execution_count": 4,
   "metadata": {},
   "outputs": [
    {
     "name": "stdout",
     "output_type": "stream",
     "text": [
      "El conjunto de datos no contiene las columnas necesarias.\n"
     ]
    }
   ],
   "source": [
    "# Comprobar que las columnas necesarias están en el DataFrame\n",
    "if all(col in data.columns for col in ['sepal_length', 'sepal_width', 'petal_length', 'petal_width', 'species']):\n",
    "    modelo_knn = knn_clasificacion(data, k=3)\n",
    "\n",
    "    # Estimaciones de clasificación para nuevas muestras\n",
    "    nuevas_muestras = pd.DataFrame({\n",
    "        'sepal_length': [5.1, 6.0, 4.4],\n",
    "        'sepal_width': [3.5, 2.9, 3.2],\n",
    "        'petal_length': [1.4, 4.5, 1.3],\n",
    "        'petal_width': [0.2, 1.5, 0.2]\n",
    "    })\n",
    "\n",
    "    # Predecir las clases para las nuevas muestras\n",
    "    estimaciones_clasificacion = modelo_knn.predict(nuevas_muestras)\n",
    "    print(\"Estimaciones de Clasificación:\")\n",
    "    print(estimaciones_clasificacion)\n",
    "else:\n",
    "    print(\"El conjunto de datos no contiene las columnas necesarias.\")\n"
   ]
  }
 ],
 "metadata": {
  "kernelspec": {
   "display_name": "base",
   "language": "python",
   "name": "python3"
  },
  "language_info": {
   "codemirror_mode": {
    "name": "ipython",
    "version": 3
   },
   "file_extension": ".py",
   "mimetype": "text/x-python",
   "name": "python",
   "nbconvert_exporter": "python",
   "pygments_lexer": "ipython3",
   "version": "3.12.4"
  }
 },
 "nbformat": 4,
 "nbformat_minor": 2
}
