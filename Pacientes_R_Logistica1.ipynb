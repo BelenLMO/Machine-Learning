{
 "cells": [
  {
   "cell_type": "code",
   "execution_count": 1,
   "metadata": {},
   "outputs": [],
   "source": [
    "import pandas as pd\n",
    "from sklearn.linear_model import LogisticRegression\n",
    "from sklearn.metrics import accuracy_score\n",
    "from sklearn.model_selection import train_test_split"
   ]
  },
  {
   "cell_type": "code",
   "execution_count": 2,
   "metadata": {},
   "outputs": [],
   "source": [
    "# Función de regresión logística\n",
    "def regresion_logistica(datos):\n",
    "    \n",
    "    y=datos['Enfermedad']\n",
    "    X=datos.drop('Enfermedad', axis=1)\n",
    "    X_train, X_test, y_train, y_test=train_test_split(X,y, test_size=0.3, random_state=45)\n",
    "    modelo=LogisticRegression()\n",
    "    modelo.fit(X_train,y_train)\n",
    "    predicciones=modelo.predict(X_test)\n",
    "    precision = accuracy_score(y_test, predicciones)\n",
    "    print(f\"Precisión del modelo: {precision}\")\n",
    "    \n",
    "    return modelo\n"
   ]
  },
  {
   "cell_type": "code",
   "execution_count": 3,
   "metadata": {},
   "outputs": [
    {
     "name": "stdout",
     "output_type": "stream",
     "text": [
      "Precisión del modelo: 1.0\n",
      "Estimaciones de Clasificación:\n",
      "[1 1]\n"
     ]
    }
   ],
   "source": [
    "# Ejemplo de uso con datos de pacientes\n",
    "data = {\n",
    "    'Edad': [50, 35, 65, 28, 60],\n",
    "    'Colesterol': [180, 150, 210, 130, 190],\n",
    "    'Enfermedad': [1, 0, 1, 0, 1]\n",
    "}\n",
    "\n",
    "df = pd.DataFrame(data)\n",
    "modelo_regresion_logistica = regresion_logistica(df)\n",
    "\n",
    "# Estimaciones de clasificación binaria para nuevos datos\n",
    "nuevos_datos = pd.DataFrame({'Edad': [45, 55], 'Colesterol': [170, 200]})\n",
    "estimaciones_clasificacion = modelo_regresion_logistica.predict(nuevos_datos)\n",
    "print(\"Estimaciones de Clasificación:\")\n",
    "print(estimaciones_clasificacion)"
   ]
  }
 ],
 "metadata": {
  "kernelspec": {
   "display_name": "base",
   "language": "python",
   "name": "python3"
  },
  "language_info": {
   "codemirror_mode": {
    "name": "ipython",
    "version": 3
   },
   "file_extension": ".py",
   "mimetype": "text/x-python",
   "name": "python",
   "nbconvert_exporter": "python",
   "pygments_lexer": "ipython3",
   "version": "3.12.4"
  }
 },
 "nbformat": 4,
 "nbformat_minor": 2
}
