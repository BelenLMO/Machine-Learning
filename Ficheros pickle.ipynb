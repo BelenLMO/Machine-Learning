{
 "cells": [
  {
   "cell_type": "markdown",
   "metadata": {},
   "source": [
    "# Guardar y recuperar un modelo de un fichero binario pickle\n",
    "\n",
    "1. Guardar modelo en un fichero\n",
    "2. Crear un nuevo modelo con los datos del fichero\n",
    "3. Utilizar el nuevo modelo "
   ]
  },
  {
   "cell_type": "code",
   "execution_count": 1,
   "metadata": {},
   "outputs": [
    {
     "name": "stdout",
     "output_type": "stream",
     "text": [
      "[[14  0  0]\n",
      " [ 0 17  0]\n",
      " [ 0  0 14]]\n",
      "              precision    recall  f1-score   support\n",
      "\n",
      "      setosa       1.00      1.00      1.00        14\n",
      "  versicolor       1.00      1.00      1.00        17\n",
      "   virginica       1.00      1.00      1.00        14\n",
      "\n",
      "    accuracy                           1.00        45\n",
      "   macro avg       1.00      1.00      1.00        45\n",
      "weighted avg       1.00      1.00      1.00        45\n",
      "\n"
     ]
    }
   ],
   "source": [
    "import pandas as pd\n",
    "import numpy as np\n",
    "import matplotlib as plt\n",
    "import matplotlib.pyplot as plt\n",
    "import seaborn as sns\n",
    "\n",
    "flores=sns.load_dataset('iris')\n",
    "from sklearn.model_selection import train_test_split\n",
    "X=flores.drop(('species'), axis=1)\n",
    "y=flores['species']\n",
    "X_train, X_test, y_train, y_test= train_test_split(X,y, test_size=0.3)\n",
    "\n",
    "from sklearn.svm import SVC\n",
    "modelo=SVC(gamma='auto')\n",
    "modelo.fit(X_train,y_train)\n",
    "predicciones=modelo.predict(X_test)\n",
    "\n",
    "from sklearn.metrics import confusion_matrix, classification_report\n",
    "print(confusion_matrix(y_test, predicciones))\n",
    "print(classification_report(y_test, predicciones))\n"
   ]
  },
  {
   "cell_type": "code",
   "execution_count": 2,
   "metadata": {},
   "outputs": [],
   "source": [
    "import pickle\n"
   ]
  },
  {
   "cell_type": "code",
   "execution_count": 4,
   "metadata": {},
   "outputs": [],
   "source": [
    "#La parte de modelo que es el que entrenamos lo guardamos en un fichero pickle\n",
    "#modelo.pickle sera el fichero, intentamos abrirlo en forma escritura binaria, de ahí el wb\n",
    "with open(\"modelo.pickle\", \"wb\")as file:\n",
    "    pickle.dump(modelo, file)"
   ]
  },
  {
   "cell_type": "code",
   "execution_count": 5,
   "metadata": {},
   "outputs": [],
   "source": [
    "# Ahora leemos del fichero pickle y lo vamos a guardar en un avariable que llamaremos modelo2\n",
    "#Lo abrimos en forma lectura binaria\n",
    "with open('modelo.pickle', \"rb\") as file:\n",
    "    modelo2=pickle.load(file)\n"
   ]
  },
  {
   "cell_type": "code",
   "execution_count": 6,
   "metadata": {},
   "outputs": [
    {
     "name": "stdout",
     "output_type": "stream",
     "text": [
      "[[14  0  0]\n",
      " [ 0 17  0]\n",
      " [ 0  0 14]]\n",
      "              precision    recall  f1-score   support\n",
      "\n",
      "      setosa       1.00      1.00      1.00        14\n",
      "  versicolor       1.00      1.00      1.00        17\n",
      "   virginica       1.00      1.00      1.00        14\n",
      "\n",
      "    accuracy                           1.00        45\n",
      "   macro avg       1.00      1.00      1.00        45\n",
      "weighted avg       1.00      1.00      1.00        45\n",
      "\n"
     ]
    }
   ],
   "source": [
    "predicciones=modelo2.predict(X_test)\n",
    "\n",
    "from sklearn.metrics import confusion_matrix, classification_report\n",
    "print(confusion_matrix(y_test, predicciones))\n",
    "print(classification_report(y_test, predicciones))\n"
   ]
  },
  {
   "cell_type": "code",
   "execution_count": 7,
   "metadata": {},
   "outputs": [],
   "source": [
    "# Como el modelo ya estaba entrenado hemos sido capaces de recuperandolo de un fichero usarlo."
   ]
  },
  {
   "cell_type": "code",
   "execution_count": null,
   "metadata": {},
   "outputs": [],
   "source": []
  }
 ],
 "metadata": {
  "kernelspec": {
   "display_name": "base",
   "language": "python",
   "name": "python3"
  },
  "language_info": {
   "codemirror_mode": {
    "name": "ipython",
    "version": 3
   },
   "file_extension": ".py",
   "mimetype": "text/x-python",
   "name": "python",
   "nbconvert_exporter": "python",
   "pygments_lexer": "ipython3",
   "version": "3.12.4"
  }
 },
 "nbformat": 4,
 "nbformat_minor": 2
}
